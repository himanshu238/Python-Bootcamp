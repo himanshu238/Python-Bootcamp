{
 "cells": [
  {
   "cell_type": "markdown",
   "metadata": {
    "colab_type": "text",
    "id": "JoIwawZv1q6K"
   },
   "source": [
    "1.Print number from 4 to 12 using for loop."
   ]
  },
  {
   "cell_type": "markdown",
   "metadata": {
    "colab_type": "text",
    "id": "rcmPjMTF2aTa"
   },
   "source": [
    "#### Hint: \n",
    "Syntax : range(start,end,step size)"
   ]
  },
  {
   "cell_type": "code",
   "execution_count": 3,
   "metadata": {
    "colab": {
     "base_uri": "https://localhost:8080/",
     "height": 171
    },
    "colab_type": "code",
    "id": "E92PaJn4184a",
    "outputId": "315c5003-d4ee-493b-f62d-5c44981bf44d"
   },
   "outputs": [
    {
     "name": "stdout",
     "output_type": "stream",
     "text": [
      "4\n",
      "5\n",
      "6\n",
      "7\n",
      "8\n",
      "9\n",
      "10\n",
      "11\n",
      "12\n"
     ]
    }
   ],
   "source": [
    "for i in range(4,13):\n",
    "  print(i) "
   ]
  },
  {
   "cell_type": "markdown",
   "metadata": {
    "colab_type": "text",
    "id": "R8MMoOFW2EfZ"
   },
   "source": [
    "2.Print number from 1 to 10 in reverse order."
   ]
  },
  {
   "cell_type": "code",
   "execution_count": 4,
   "metadata": {
    "colab": {
     "base_uri": "https://localhost:8080/",
     "height": 188
    },
    "colab_type": "code",
    "id": "CZ1_gNcL2Ci0",
    "outputId": "ae7c8eef-e32d-47e8-d245-2f80fbb7bd85"
   },
   "outputs": [
    {
     "name": "stdout",
     "output_type": "stream",
     "text": [
      "10\n",
      "9\n",
      "8\n",
      "7\n",
      "6\n",
      "5\n",
      "4\n",
      "3\n",
      "2\n",
      "1\n"
     ]
    }
   ],
   "source": [
    "for i in range(10,0,-1):\n",
    "  print(i)"
   ]
  },
  {
   "cell_type": "markdown",
   "metadata": {
    "colab_type": "text",
    "id": "ol7KdUz_3kEo"
   },
   "source": [
    "3.Dynamically assign the data type of variables and print their data type."
   ]
  },
  {
   "cell_type": "code",
   "execution_count": 5,
   "metadata": {
    "colab": {
     "base_uri": "https://localhost:8080/",
     "height": 34
    },
    "colab_type": "code",
    "id": "FRn78Z2I2X7Z",
    "outputId": "736838c7-9c78-4e02-bbbb-5f10c4a30a80"
   },
   "outputs": [
    {
     "name": "stdout",
     "output_type": "stream",
     "text": [
      "<class 'complex'>\n"
     ]
    }
   ],
   "source": [
    "k=4+5j\n",
    "print(type(k))"
   ]
  },
  {
   "cell_type": "markdown",
   "metadata": {
    "colab_type": "text",
    "id": "TFMhRmCi4a-m"
   },
   "source": [
    "4.Assign two values to two variables(Dynamically) and then then add them and store them in third variable, also delete the first two variable from memory and print the third variable."
   ]
  },
  {
   "cell_type": "code",
   "execution_count": 6,
   "metadata": {
    "colab": {
     "base_uri": "https://localhost:8080/",
     "height": 34
    },
    "colab_type": "code",
    "id": "9z3--xsj3-ru",
    "outputId": "67d96f76-fe22-4c99-aad9-def4adcaf89d"
   },
   "outputs": [
    {
     "name": "stdout",
     "output_type": "stream",
     "text": [
      "12\n"
     ]
    }
   ],
   "source": [
    "a=5\n",
    "b=7\n",
    "c=a+b\n",
    "del a,b\n",
    "print(c)"
   ]
  },
  {
   "cell_type": "markdown",
   "metadata": {
    "colab_type": "text",
    "id": "pb_ZdKVx5U0s"
   },
   "source": [
    "5.Concatenate a string and an integer.\n"
   ]
  },
  {
   "cell_type": "code",
   "execution_count": 7,
   "metadata": {
    "colab": {
     "base_uri": "https://localhost:8080/",
     "height": 34
    },
    "colab_type": "code",
    "id": "EOtQ5U1M5JSh",
    "outputId": "4c124562-7eef-4275-f754-f822ba4a152a"
   },
   "outputs": [
    {
     "name": "stdout",
     "output_type": "stream",
     "text": [
      "5alpha\n"
     ]
    }
   ],
   "source": [
    "a='alpha'\n",
    "b=5\n",
    "c=str(b)+a\n",
    "print(c)"
   ]
  },
  {
   "cell_type": "markdown",
   "metadata": {
    "colab_type": "text",
    "id": "8uEMw8r76VKh"
   },
   "source": [
    "6.Convert 111 into octal and hexadecimal number.\n"
   ]
  },
  {
   "cell_type": "code",
   "execution_count": 8,
   "metadata": {
    "colab": {
     "base_uri": "https://localhost:8080/",
     "height": 51
    },
    "colab_type": "code",
    "id": "yQxqzd1v6kUx",
    "outputId": "81e4a5e0-330f-4dce-e0af-9f2ae9b111d4"
   },
   "outputs": [
    {
     "name": "stdout",
     "output_type": "stream",
     "text": [
      "157\n",
      "6f\n"
     ]
    }
   ],
   "source": [
    "k=111\n",
    "print(oct(k).replace('0o',''))\n",
    "#Using .replace() is optional we don't exxpect you to use use this function at this stage.\n",
    "print(hex(k).replace('0x',''))"
   ]
  },
  {
   "cell_type": "markdown",
   "metadata": {
    "colab_type": "text",
    "id": "XL99gXWJ-Vfv"
   },
   "source": [
    "7.Create a list of elements and sort it in ascending and decending order."
   ]
  },
  {
   "cell_type": "code",
   "execution_count": 9,
   "metadata": {
    "colab": {
     "base_uri": "https://localhost:8080/",
     "height": 51
    },
    "colab_type": "code",
    "id": "f4reu3Qc9F_k",
    "outputId": "3fa03751-1c6e-44d5-ea07-78005838e29b"
   },
   "outputs": [
    {
     "name": "stdout",
     "output_type": "stream",
     "text": [
      "[1, 2, 3, 4, 4, 6]\n",
      "[6, 4, 4, 3, 2, 1]\n"
     ]
    }
   ],
   "source": [
    "l=[4,2,3,1,4,6]\n",
    "l.sort()\n",
    "print(l)\n",
    "l.sort(reverse=True)\n",
    "print(l)"
   ]
  },
  {
   "cell_type": "markdown",
   "metadata": {
    "colab_type": "text",
    "id": "Ql1OmMW3BL9X"
   },
   "source": [
    "8.Perform mathematical operation using at least 3 operation and produce the result 132."
   ]
  },
  {
   "cell_type": "code",
   "execution_count": 10,
   "metadata": {
    "colab": {
     "base_uri": "https://localhost:8080/",
     "height": 34
    },
    "colab_type": "code",
    "id": "zIBZwiHi-oYR",
    "outputId": "0b4827f6-c5b5-4fcf-a163-8df0ec8925f2"
   },
   "outputs": [
    {
     "name": "stdout",
     "output_type": "stream",
     "text": [
      "132\n"
     ]
    }
   ],
   "source": [
    "k=10*14-8\n",
    "print(k)"
   ]
  },
  {
   "cell_type": "markdown",
   "metadata": {
    "colab_type": "text",
    "id": "GWZG1XH5qdjw"
   },
   "source": [
    "9.'Hello my name is YOURNAME and i am YOURAGE years old.' Print this statement using .format() method. Note: Replace YOURNAME and YOURAGE in srting."
   ]
  },
  {
   "cell_type": "code",
   "execution_count": 11,
   "metadata": {
    "colab": {
     "base_uri": "https://localhost:8080/",
     "height": 34
    },
    "colab_type": "code",
    "id": "w_rZ3C76BqYP",
    "outputId": "55530c2b-874d-4977-975b-f3aec12cfa98"
   },
   "outputs": [
    {
     "name": "stdout",
     "output_type": "stream",
     "text": [
      "Hello my name is himanshu and i am 19 years old\n"
     ]
    }
   ],
   "source": [
    "print('Hello my name is {} and i am {} years old'.format('himanshu',19))"
   ]
  },
  {
   "cell_type": "markdown",
   "metadata": {
    "colab_type": "text",
    "id": "_VNh_PkOsTwJ"
   },
   "source": [
    "10.Take input from user his PID number and his password and print it."
   ]
  },
  {
   "cell_type": "code",
   "execution_count": 12,
   "metadata": {
    "colab": {
     "base_uri": "https://localhost:8080/",
     "height": 68
    },
    "colab_type": "code",
    "id": "CgqjF_iQruRN",
    "outputId": "97c8981f-4b31-41ab-ce34-ba47dcff5cc6"
   },
   "outputs": [
    {
     "name": "stdout",
     "output_type": "stream",
     "text": [
      "Enter your pid number: 1182033\n",
      "Enter Password: !123what\n",
      "1182033 : !123what\n"
     ]
    }
   ],
   "source": [
    "id=input('Enter your pid number: ')\n",
    "passa = input('Enter Password: ')\n",
    "print(id,':',passa)"
   ]
  },
  {
   "cell_type": "markdown",
   "metadata": {
    "colab_type": "text",
    "id": "Q5_Hky7VtuaR"
   },
   "source": [
    "11.Cheack whether the entered year is leap year or not using if elif and else statement.  \n",
    "\n"
   ]
  },
  {
   "cell_type": "code",
   "execution_count": 14,
   "metadata": {
    "colab": {
     "base_uri": "https://localhost:8080/",
     "height": 51
    },
    "colab_type": "code",
    "id": "bsRpfW86uRmE",
    "outputId": "7f4d913e-4f20-496e-f1b3-eb9c076d77e3"
   },
   "outputs": [
    {
     "name": "stdout",
     "output_type": "stream",
     "text": [
      "Enter Year: 2000\n",
      "Leap year\n"
     ]
    }
   ],
   "source": [
    "i=int(input('Enter Year: '))\n",
    "leap=False\n",
    "if i%4==0:\n",
    "  leap=True\n",
    "  if (i%100==0 and i%400!=0):\n",
    "    leap=False\n",
    "if leap==True:\n",
    "  print('Leap year')\n",
    "else:\n",
    "  print('Not a leap year')\n"
   ]
  },
  {
   "cell_type": "markdown",
   "metadata": {
    "colab_type": "text",
    "id": "cPJ0Hoq-vL1l"
   },
   "source": [
    "12.Print the numbers from 1 to 10 except 6 using while loop.(Use continue and break)"
   ]
  },
  {
   "cell_type": "code",
   "execution_count": 16,
   "metadata": {
    "colab": {
     "base_uri": "https://localhost:8080/",
     "height": 171
    },
    "colab_type": "code",
    "id": "t8NKa0GSu3ow",
    "outputId": "f89fe5fb-62ab-481d-ce26-81a8c96d7402"
   },
   "outputs": [
    {
     "name": "stdout",
     "output_type": "stream",
     "text": [
      "1\n",
      "2\n",
      "3\n",
      "4\n",
      "5\n",
      "7\n",
      "8\n",
      "9\n",
      "10\n"
     ]
    }
   ],
   "source": [
    "k=0\n",
    "while True:\n",
    "  k+=1\n",
    "  if k==6:\n",
    "    continue\n",
    "  print(k)\n",
    "  if k==10:\n",
    "    break"
   ]
  },
  {
   "cell_type": "markdown",
   "metadata": {
    "colab_type": "text",
    "id": "UPO805_L1QmI"
   },
   "source": [
    "13.Using for loop print print each characteristic of string in same line."
   ]
  },
  {
   "cell_type": "code",
   "execution_count": 17,
   "metadata": {
    "colab": {
     "base_uri": "https://localhost:8080/",
     "height": 34
    },
    "colab_type": "code",
    "id": "hZnEqNWZxDil",
    "outputId": "898b6653-cb49-4d95-fea6-9deb0374e640"
   },
   "outputs": [
    {
     "name": "stdout",
     "output_type": "stream",
     "text": [
      "Hello this is me"
     ]
    }
   ],
   "source": [
    "for i in 'Hello this is me':\n",
    "  print(i,end='')"
   ]
  },
  {
   "cell_type": "markdown",
   "metadata": {
    "colab_type": "text",
    "id": "qRTSS8QD1wzq"
   },
   "source": [
    "14.Using string indexing print the 3 rd word of the sentence.\n",
    "\n",
    "---\n",
    "\n",
    "Sentence: 'Teach me bro is beneficial for everyone '"
   ]
  },
  {
   "cell_type": "code",
   "execution_count": 19,
   "metadata": {
    "colab": {
     "base_uri": "https://localhost:8080/",
     "height": 34
    },
    "colab_type": "code",
    "id": "FtpBQgro1sGl",
    "outputId": "106e9303-63eb-43c2-fcc8-1fe02a5e5047"
   },
   "outputs": [
    {
     "name": "stdout",
     "output_type": "stream",
     "text": [
      "bro\n"
     ]
    }
   ],
   "source": [
    "k ='Teach me bro is beneficial for everyone'\n",
    "i=k[9:12]\n",
    "print(i) "
   ]
  },
  {
   "cell_type": "markdown",
   "metadata": {
    "colab_type": "text",
    "id": "PI5dS4786gk3"
   },
   "source": [
    "15.Create a function to check whether the number is even or odd."
   ]
  },
  {
   "cell_type": "code",
   "execution_count": 20,
   "metadata": {
    "colab": {
     "base_uri": "https://localhost:8080/",
     "height": 51
    },
    "colab_type": "code",
    "id": "V0TbiBnc2sj3",
    "outputId": "5b99c464-77bb-4715-cb7c-d21e325609e0"
   },
   "outputs": [
    {
     "name": "stdout",
     "output_type": "stream",
     "text": [
      "Enter number: 76\n",
      "Even\n"
     ]
    }
   ],
   "source": [
    "def even_fun(n):\n",
    "  if n%2==0:\n",
    "    print('Even')\n",
    "  else:\n",
    "    preint('Odd')\n",
    "\n",
    "i=int(input('Enter number: '))\n",
    "even_fun(i)"
   ]
  },
  {
   "cell_type": "markdown",
   "metadata": {
    "colab_type": "text",
    "id": "dI39AEbM9NCv"
   },
   "source": [
    "16.Using lambda expression print the square of the list of elements."
   ]
  },
  {
   "cell_type": "code",
   "execution_count": 24,
   "metadata": {
    "colab": {
     "base_uri": "https://localhost:8080/",
     "height": 34
    },
    "colab_type": "code",
    "id": "SFFpftIr8o-t",
    "outputId": "8f43dc26-f6e2-408b-d725-8566da608af7"
   },
   "outputs": [
    {
     "name": "stdout",
     "output_type": "stream",
     "text": [
      "[4, 9, 16, 1, 25, 64, 36, 81]\n"
     ]
    }
   ],
   "source": [
    "l=[2,3,4,1,5,8,6,9]\n",
    "k=lambda x:x**2\n",
    "m=list(map(k,l))\n",
    "print(m)"
   ]
  },
  {
   "cell_type": "code",
   "execution_count": 0,
   "metadata": {
    "colab": {},
    "colab_type": "code",
    "id": "WpxEw_On-OIF"
   },
   "outputs": [],
   "source": []
  }
 ],
 "metadata": {
  "colab": {
   "collapsed_sections": [],
   "name": "teach_python",
   "provenance": []
  },
  "kernelspec": {
   "display_name": "Python 3",
   "language": "python",
   "name": "python3"
  },
  "language_info": {
   "codemirror_mode": {
    "name": "ipython",
    "version": 3
   },
   "file_extension": ".py",
   "mimetype": "text/x-python",
   "name": "python",
   "nbconvert_exporter": "python",
   "pygments_lexer": "ipython3",
   "version": "3.7.4"
  }
 },
 "nbformat": 4,
 "nbformat_minor": 1
}
