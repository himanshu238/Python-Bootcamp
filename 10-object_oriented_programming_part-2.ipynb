{
 "cells": [
  {
   "cell_type": "markdown",
   "metadata": {},
   "source": [
    "### POLYMORPHISM"
   ]
  },
  {
   "cell_type": "code",
   "execution_count": 85,
   "metadata": {},
   "outputs": [],
   "source": [
    "class Computer():\n",
    "    \n",
    "    def __init__(self,div):\n",
    "        self.div=div\n",
    "        \n",
    "    def no_of_students(self):\n",
    "        return self.div+' has 65 CS professional'\n",
    "        "
   ]
  },
  {
   "cell_type": "code",
   "execution_count": 86,
   "metadata": {},
   "outputs": [],
   "source": [
    "class It():\n",
    "    \n",
    "    def __init__(self,div):\n",
    "        self.div=div\n",
    "        \n",
    "    def no_of_students(self):\n",
    "        return  self.div+' has 75 IT professional'"
   ]
  },
  {
   "cell_type": "code",
   "execution_count": 87,
   "metadata": {},
   "outputs": [],
   "source": [
    "b=Computer('B')\n",
    "a=It('class')"
   ]
  },
  {
   "cell_type": "code",
   "execution_count": 88,
   "metadata": {},
   "outputs": [
    {
     "data": {
      "text/plain": [
       "'B has 65 CS professional'"
      ]
     },
     "execution_count": 88,
     "metadata": {},
     "output_type": "execute_result"
    }
   ],
   "source": [
    "b.no_of_students()"
   ]
  },
  {
   "cell_type": "code",
   "execution_count": 89,
   "metadata": {},
   "outputs": [
    {
     "data": {
      "text/plain": [
       "'class has 75 IT professional'"
      ]
     },
     "execution_count": 89,
     "metadata": {},
     "output_type": "execute_result"
    }
   ],
   "source": [
    "a.no_of_students()"
   ]
  },
  {
   "cell_type": "code",
   "execution_count": 90,
   "metadata": {},
   "outputs": [
    {
     "name": "stdout",
     "output_type": "stream",
     "text": [
      "<class '__main__.It'>\n",
      "class has 75 IT professional\n",
      "\n",
      "<class '__main__.Computer'>\n",
      "B has 65 CS professional\n",
      "\n"
     ]
    }
   ],
   "source": [
    "for class1 in [a,b]:\n",
    "    print(type(class1))\n",
    "    print(class1.no_of_students())\n",
    "    print()"
   ]
  },
  {
   "cell_type": "markdown",
   "metadata": {},
   "source": [
    "### Special Methods (Magic Dunder)"
   ]
  },
  {
   "cell_type": "code",
   "execution_count": 91,
   "metadata": {},
   "outputs": [],
   "source": [
    "my_list=[1,2,3]"
   ]
  },
  {
   "cell_type": "code",
   "execution_count": 92,
   "metadata": {},
   "outputs": [
    {
     "data": {
      "text/plain": [
       "3"
      ]
     },
     "execution_count": 92,
     "metadata": {},
     "output_type": "execute_result"
    }
   ],
   "source": [
    "len(my_list)"
   ]
  },
  {
   "cell_type": "code",
   "execution_count": 93,
   "metadata": {},
   "outputs": [],
   "source": [
    "class my_sample():\n",
    "    pass"
   ]
  },
  {
   "cell_type": "code",
   "execution_count": 94,
   "metadata": {},
   "outputs": [
    {
     "name": "stdout",
     "output_type": "stream",
     "text": [
      "<class '__main__.my_sample'>\n"
     ]
    }
   ],
   "source": [
    "print(my_sample)"
   ]
  },
  {
   "cell_type": "code",
   "execution_count": 95,
   "metadata": {},
   "outputs": [],
   "source": [
    "#len(my_sample)"
   ]
  },
  {
   "cell_type": "code",
   "execution_count": 96,
   "metadata": {},
   "outputs": [],
   "source": [
    "class Laptop_model():\n",
    "    \n",
    "    def __init__(self,company,model,ram):\n",
    "        self.company=company\n",
    "        self.model=model\n",
    "        self.ram=ram\n",
    "    "
   ]
  },
  {
   "cell_type": "code",
   "execution_count": 101,
   "metadata": {},
   "outputs": [],
   "source": [
    "lap=Laptop_model('Dell','AX-01',8)"
   ]
  },
  {
   "cell_type": "code",
   "execution_count": 104,
   "metadata": {},
   "outputs": [
    {
     "name": "stdout",
     "output_type": "stream",
     "text": [
      "<__main__.Laptop_model object at 0x00000269BFEE89C8>\n"
     ]
    }
   ],
   "source": [
    "print(lap)# this will just print the memory location to avoid this we use special fun"
   ]
  },
  {
   "cell_type": "code",
   "execution_count": 124,
   "metadata": {},
   "outputs": [],
   "source": [
    "class Laptop_model():\n",
    "    \n",
    "    def __init__(self,company,model,ram):\n",
    "        self.company=company\n",
    "        self.model=model\n",
    "        self.ram=ram\n",
    "    \n",
    "    def __str__(self):\n",
    "        return 'Company= '+self.company+'\\nModel= '+self.model+'\\nRam= '+self.ram\n",
    "    \n",
    "    def __del__(self):\n",
    "        print('An object of type laptop has been deleted')"
   ]
  },
  {
   "cell_type": "code",
   "execution_count": 125,
   "metadata": {},
   "outputs": [],
   "source": [
    "lap=Laptop_model('Dell','AX-01','8 GB')"
   ]
  },
  {
   "cell_type": "code",
   "execution_count": 126,
   "metadata": {},
   "outputs": [
    {
     "name": "stdout",
     "output_type": "stream",
     "text": [
      "Company= Dell\n",
      "Model= AX-01\n",
      "Ram= 8 GB\n"
     ]
    }
   ],
   "source": [
    "print(lap)"
   ]
  },
  {
   "cell_type": "code",
   "execution_count": 127,
   "metadata": {},
   "outputs": [
    {
     "name": "stdout",
     "output_type": "stream",
     "text": [
      "An object of type laptop has been deleted\n"
     ]
    }
   ],
   "source": [
    "del lap"
   ]
  }
 ],
 "metadata": {
  "kernelspec": {
   "display_name": "Python 3",
   "language": "python",
   "name": "python3"
  },
  "language_info": {
   "codemirror_mode": {
    "name": "ipython",
    "version": 3
   },
   "file_extension": ".py",
   "mimetype": "text/x-python",
   "name": "python",
   "nbconvert_exporter": "python",
   "pygments_lexer": "ipython3",
   "version": "3.7.4"
  }
 },
 "nbformat": 4,
 "nbformat_minor": 2
}
